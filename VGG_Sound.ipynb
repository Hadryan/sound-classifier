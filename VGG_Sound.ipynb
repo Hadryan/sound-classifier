{
  "nbformat": 4,
  "nbformat_minor": 0,
  "metadata": {
    "colab": {
      "name": "VGG-Sound.ipynb",
      "provenance": [],
      "authorship_tag": "ABX9TyNDOwik1DwGibz1kTEpG3Aa",
      "include_colab_link": true
    },
    "kernelspec": {
      "name": "python3",
      "display_name": "Python 3"
    }
  },
  "cells": [
    {
      "cell_type": "markdown",
      "metadata": {
        "id": "view-in-github",
        "colab_type": "text"
      },
      "source": [
        "<a href=\"https://colab.research.google.com/github/Jarmos-san/sound-classifier/blob/master/VGG_Sound.ipynb\" target=\"_parent\"><img src=\"https://colab.research.google.com/assets/colab-badge.svg\" alt=\"Open In Colab\"/></a>"
      ]
    },
    {
      "cell_type": "code",
      "metadata": {
        "id": "jR23oc40PAsb",
        "colab_type": "code",
        "colab": {}
      },
      "source": [
        "!pip install pytube3"
      ],
      "execution_count": 0,
      "outputs": []
    },
    {
      "cell_type": "code",
      "metadata": {
        "id": "gSO0fhllFiP9",
        "colab_type": "code",
        "colab": {}
      },
      "source": [
        "import pandas as pd\n",
        "\n",
        "from pytube import YouTube"
      ],
      "execution_count": 0,
      "outputs": []
    },
    {
      "cell_type": "code",
      "metadata": {
        "id": "o4dy5LxyFzpH",
        "colab_type": "code",
        "colab": {
          "base_uri": "https://localhost:8080/",
          "height": 144
        },
        "outputId": "1aa0b4f6-e03f-44fe-9b20-5334beaa5664"
      },
      "source": [
        "_FILEPATH = 'http://www.robots.ox.ac.uk/~vgg/data/vggsound/vggsound.csv'\n",
        "\n",
        "_column_names = ['youtube_id', 'time_stamps', 'labels', 'test_train_split']\n",
        "\n",
        "data = pd.read_csv(_FILEPATH, names=_column_names)\n",
        "data.head(3)"
      ],
      "execution_count": 25,
      "outputs": [
        {
          "output_type": "execute_result",
          "data": {
            "text/html": [
              "<div>\n",
              "<style scoped>\n",
              "    .dataframe tbody tr th:only-of-type {\n",
              "        vertical-align: middle;\n",
              "    }\n",
              "\n",
              "    .dataframe tbody tr th {\n",
              "        vertical-align: top;\n",
              "    }\n",
              "\n",
              "    .dataframe thead th {\n",
              "        text-align: right;\n",
              "    }\n",
              "</style>\n",
              "<table border=\"1\" class=\"dataframe\">\n",
              "  <thead>\n",
              "    <tr style=\"text-align: right;\">\n",
              "      <th></th>\n",
              "      <th>youtube_id</th>\n",
              "      <th>time_stamps</th>\n",
              "      <th>labels</th>\n",
              "      <th>test_train_split</th>\n",
              "    </tr>\n",
              "  </thead>\n",
              "  <tbody>\n",
              "    <tr>\n",
              "      <th>0</th>\n",
              "      <td>---g-f_I2yQ</td>\n",
              "      <td>1</td>\n",
              "      <td>people marching</td>\n",
              "      <td>test</td>\n",
              "    </tr>\n",
              "    <tr>\n",
              "      <th>1</th>\n",
              "      <td>--0PQM4-hqg</td>\n",
              "      <td>30</td>\n",
              "      <td>waterfall burbling</td>\n",
              "      <td>train</td>\n",
              "    </tr>\n",
              "    <tr>\n",
              "      <th>2</th>\n",
              "      <td>--56QUhyDQM</td>\n",
              "      <td>185</td>\n",
              "      <td>playing tennis</td>\n",
              "      <td>train</td>\n",
              "    </tr>\n",
              "  </tbody>\n",
              "</table>\n",
              "</div>"
            ],
            "text/plain": [
              "    youtube_id  time_stamps              labels test_train_split\n",
              "0  ---g-f_I2yQ            1     people marching             test\n",
              "1  --0PQM4-hqg           30  waterfall burbling            train\n",
              "2  --56QUhyDQM          185      playing tennis            train"
            ]
          },
          "metadata": {
            "tags": []
          },
          "execution_count": 25
        }
      ]
    },
    {
      "cell_type": "code",
      "metadata": {
        "id": "hn45-r1YaaFz",
        "colab_type": "code",
        "colab": {
          "base_uri": "https://localhost:8080/",
          "height": 202
        },
        "outputId": "2bee2405-3a13-4b8e-d584-b2c194ff49b7"
      },
      "source": [
        "for _, value in data['youtube_id'][:10].iteritems():\n",
        "    \n",
        "    url = f'https://www.youtube.com/watch?v={value}'\n",
        "\n",
        "    yt = YouTube(url)\n",
        "\n",
        "    print(yt.title)\n",
        "    yt.streams.first().download()"
      ],
      "execution_count": 64,
      "outputs": [
        {
          "output_type": "stream",
          "text": [
            "Chinese Army - The Best Hell March 60th Anniversary HD\n",
            "Water Can Jump!\n",
            "12 year old boy playing tennis\n",
            "WE CALLED THE POLICE!!!\n",
            "Honda CR-V 2000 Engine Crank but won't start\n",
            "Reloj Alarma Súper Mario\n",
            "YTP: Theresa May-may's Inaugural Speech\n",
            "Crickets Sound Effect - Free Download HD\n",
            "Seadoo 230 with huge hp ( 430 ) 2007 model\n",
            "Un paquebot fait retentir sa sirène\n"
          ],
          "name": "stdout"
        }
      ]
    },
    {
      "cell_type": "code",
      "metadata": {
        "id": "k6xGwgjPkqi4",
        "colab_type": "code",
        "colab": {}
      },
      "source": [
        "!rm -rf /content/"
      ],
      "execution_count": 0,
      "outputs": []
    },
    {
      "cell_type": "code",
      "metadata": {
        "id": "fAesDFSckvoS",
        "colab_type": "code",
        "colab": {}
      },
      "source": [
        ""
      ],
      "execution_count": 0,
      "outputs": []
    }
  ]
}